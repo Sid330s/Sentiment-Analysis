{
 "cells": [
  {
   "cell_type": "code",
   "execution_count": 2,
   "metadata": {},
   "outputs": [],
   "source": [
    "from IPython.display import Image"
   ]
  },
  {
   "cell_type": "markdown",
   "metadata": {},
   "source": [
    "#                                    DATA PREPROCESSING"
   ]
  },
  {
   "cell_type": "markdown",
   "metadata": {},
   "source": [
    "##                           TRAINING  AND TESTING DATA FROM AMAZON             "
   ]
  },
  {
   "cell_type": "markdown",
   "metadata": {},
   "source": [
    "###    This dataset consists of a few million Amazon customer reviews (input text) and star ratings (output labels)                                             for learning how to train fastText for sentiment analysis.\n",
    "\n",
    "                     \n",
    "            __label__1 corresponds to 1- and 2-star reviews, and __label__2 corresponds to 4- and 5-star reviews.\n",
    "          "
   ]
  },
  {
   "cell_type": "raw",
   "metadata": {},
   "source": [
    "__label__1 The Worst!: A complete waste of time. Typographical errors, poor grammar, and a totally pathetic plot add up to absolutely nothing. I'm embarrassed for this author and very disappointed I actually paid for this book.\n",
    "\n",
    "__label__2 Great book: This was a great book,I just could not put it down,and could not read it fast enough. Boy what a book the twist and turns in this just keeps you guessing and wanting to know what is going to happen next. This book makes you fall in love and can heat you up,it can also make you so angery. this book can make you go throu several of your emotions. This is a quick read romance. It is something that you will want to end your day off with if you read at night.\n",
    "\n",
    "__label__2 Great Read: I thought this book was brilliant, but yet realistic. It showed me that to error is human. I loved the fact that this writer showed the loving side of God and not the revengeful side of him. I loved how it twisted and turned and I could not put it down. I also loved The glass castle.\n",
    "\n",
    "__label__1 Oh please: I guess you have to be a romance novel lover for this one, and not a very discerning one. All others beware! It is absolute drivel. I figured I was in trouble when a typo is prominently featured on the back cover, but the first page of the book removed all doubt. Wait - maybe I'm missing the point. A quick re-read of the beginning now makes it clear. This has to be an intentional churning of over-heated prose for satiric purposes. Phew, so glad I didn't waste $10.95 after all.\n",
    "\n",
    "__label__1 Awful beyond belief!: I feel I have to write to keep others from wasting their money. This book seems to have been written by a 7th grader with poor grammatical skills for her age! As another reviewer points out, there is a misspelling on the cover, and I believe there is at least one per chapter. For example, it was mentioned twice that she had a \"lean\" on her house. I was so distracted by the poor writing and weak plot, that I decided to read with a pencil in hand to mark all of the horrible grammar and spelling. Please don't waste your money. I too, believe that the good reviews must have been written by the author's relatives. I will not put much faith in the reviews from now on!"
   ]
  },
  {
   "cell_type": "markdown",
   "metadata": {},
   "source": [
    "###   After separating lablels and sentences ==>  numbers are replaced by '0' and URLS by <urls>\n"
   ]
  },
  {
   "cell_type": "markdown",
   "metadata": {},
   "source": [
    "#                        Tokenizer Is Fit On Training Data Set"
   ]
  },
  {
   "cell_type": "raw",
   "metadata": {},
   "source": [
    " ['the'= 1],\n",
    " ['and'= 2],\n",
    " ['i'= 3],\n",
    " ['a'= 4],\n",
    " ['to'= 5],\n",
    " ['it'= 6],\n",
    " ['of'= 7],\n",
    " ['this' = 8],\n",
    " ['is'= 9],\n",
    " ['in'= 10],\n",
    " ['for' = 11],\n",
    " ['that'= 12],\n",
    "                  ...................................... such "
   ]
  },
  {
   "cell_type": "markdown",
   "metadata": {},
   "source": [
    "#              After Tokenization of Training and Testing Data"
   ]
  },
  {
   "cell_type": "code",
   "execution_count": 6,
   "metadata": {},
   "outputs": [
    {
     "data": {
      "text/html": [
       "<img src=\"https://1001freedownloads.s3.amazonaws.com/vector/thumb/91525/1313159889.png\" width=\"100\"/>"
      ],
      "text/plain": [
       "<IPython.core.display.Image object>"
      ]
     },
     "execution_count": 6,
     "metadata": {},
     "output_type": "execute_result"
    }
   ],
   "source": [
    "Image(url=\"https://1001freedownloads.s3.amazonaws.com/vector/thumb/91525/1313159889.png\", width=100)"
   ]
  },
  {
   "cell_type": "raw",
   "metadata": {},
   "source": [
    "[1, 291, 4, 480, 194, 7, 57, 11869, 1250, 263, 3167, 2, 4, 535, 1937, 288, 635, 55, 5, 440, 197, 110, 5017, 11, 8, 223, 2, 31, 205, 3, 238, 697, 11, 8, 19]\n",
    "\n",
    "[30, 19, 8, 13, 4, 30, 19, 3, 36, 102, 14, 156, 6, 164, 2, 102, 14, 50, 6, 428, 195, 714, 46, 4, 19, 1, 1723, 2, 1007, 10, 8, 36, 771, 15, 3433, 2, 1378, 5, 124, 46, 9, 187, 5, 855, 280, 8, 19, 209, 15, 773, 10, 81, 2, 61, 1170, 15, 55, 6, 61, 98, 120, 15, 27, 8, 19, 61, 120, 15, 144, 296, 7, 60, 2227, 8, 9, 4, 686, 50, 914, 6, 9, 166, 12, 15, 49, 133, 5, 218, 60, 201, 121, 17, 29, 15, 50, 35, 467]\n",
    "\n",
    "[30, 50, 3, 165, 8, 19, 13, 1015, 16, 267, 1474, 6, 1648, 43, 12, 5, 1542, 9, 848, 3, 255, 1, 339, 12, 8, 762, 1648, 1, 2023, 404, 7, 521, 2, 14, 1, 404, 7, 226, 3, 255, 87, 6, 3204, 2, 683, 2, 3, 102, 14, 156, 6, 164, 3, 98, 255, 1, 1309, 4506]\n",
    "\n",
    "[640, 418, 3, 477, 15, 20, 5, 26, 4, 914, 358, 1989, 11, 8, 24, 2, 14, 4, 31, 14278, 24, 28, 324, 830, 6, 9, 1457, 3318, 3, 1523, 3, 13, 10, 909, 51, 4, 11636, 9, 16704, 3372, 18, 1, 114, 341, 16, 1, 75, 423, 7, 1, 19, 1991, 28, 1020, 446, 302, 110, 685, 1, 342, 4, 686, 693, 50, 7, 1, 664, 109, 209, 6, 514, 8, 44, 5, 26, 42, 11937, 13862, 7, 113, 5838, 2136, 11, 3927, 27, 621, 3, 143, 194, 45, 45, 80, 28]\n"
   ]
  },
  {
   "cell_type": "code",
   "execution_count": 7,
   "metadata": {},
   "outputs": [
    {
     "data": {
      "text/html": [
       "<img src=\"https://1001freedownloads.s3.amazonaws.com/vector/thumb/91525/1313159889.png\" width=\"100\"/>"
      ],
      "text/plain": [
       "<IPython.core.display.Image object>"
      ]
     },
     "execution_count": 7,
     "metadata": {},
     "output_type": "execute_result"
    }
   ],
   "source": [
    "Image(url=\"https://1001freedownloads.s3.amazonaws.com/vector/thumb/91525/1313159889.png\", width=100)"
   ]
  },
  {
   "cell_type": "raw",
   "metadata": {},
   "source": [
    "[    0     0     0     0     0     0     0     0     0     0     0     0\n",
    "     0     0     0     0     0     0     0     0     0     0     0     0\n",
    "     0     0     0     0     0     0     0     0     0     0     0     0\n",
    "     0     0     0     0     0     0     0     0     0     0     0     0\n",
    "     0     0     0     0     0     0     0     0     0     0     0     0\n",
    "     0     0     0     0     0     1   291     4   480   194     7    57\n",
    " 11869  1250   263  3167     2     4   535  1937   288   635    55     5\n",
    "   440   197   110  5017    11     8   223     2    31   205     3   238\n",
    "   697    11     8    19]\n",
    "   \n",
    "[   0    0    0   30   19    8   13    4   30   19    3   36  102   14\n",
    "  156    6  164    2  102   14   50    6  428  195  714   46    4   19\n",
    "    1 1723    2 1007   10    8   36  771   15 3433    2 1378    5  124\n",
    "   46    9  187    5  855  280    8   19  209   15  773   10   81    2\n",
    "   61 1170   15   55    6   61   98  120   15   27    8   19   61  120\n",
    "   15  144  296    7   60 2227    8    9    4  686   50  914    6    9\n",
    "  166   12   15   49  133    5  218   60  201  121   17   29   15   50\n",
    "   35  467]\n",
    "   \n",
    "[   0    0    0    0    0    0    0    0    0    0    0    0    0    0\n",
    "    0    0    0    0    0    0    0    0    0    0    0    0    0    0\n",
    "    0    0    0    0    0    0    0    0    0    0    0    0    0    0\n",
    "   30   50    3  165    8   19   13 1015   16  267 1474    6 1648   43\n",
    "   12    5 1542    9  848    3  255    1  339   12    8  762 1648    1\n",
    " 2023  404    7  521    2   14    1  404    7  226    3  255   87    6\n",
    " 3204    2  683    2    3  102   14  156    6  164    3   98  255    1\n",
    " 1309 4506]\n"
   ]
  },
  {
   "cell_type": "code",
   "execution_count": null,
   "metadata": {},
   "outputs": [],
   "source": []
  },
  {
   "cell_type": "raw",
   "metadata": {},
   "source": [
    "array([[-0.60298799, -0.14869824, -0.10000576, ..., -0.9170643 ,\n",
    "         0.95996386,  1.45311931],\n",
    "       [ 0.095152  ,  0.37024   ,  0.54290998, ..., -0.51082999,\n",
    "         0.46877   ,  0.34882   ],\n",
    "       [-0.16697   , -0.32589   , -0.012003  , ..., -0.60588998,\n",
    "        -0.21294001,  0.37044999],\n",
    "       ...,\n",
    "       [-0.45385   , -0.34312001,  0.37796   , ..., -0.15683   ,\n",
    "        -0.68279999,  0.51831001],\n",
    "       [-0.72560595, -0.06147053, -0.40451976, ..., -0.13283613,\n",
    "         0.4582578 ,  1.43241149],\n",
    "       [-0.17041001,  0.50735003, -0.2027    , ...,  0.22229999,\n",
    "         0.077948  , -0.66737002]])"
   ]
  },
  {
   "cell_type": "code",
   "execution_count": 3,
   "metadata": {},
   "outputs": [
    {
     "data": {
      "text/html": [
       "<img src=\"https://cdn-images-1.medium.com/max/800/1*GRQ91HNASB7MAJPTTlVvfw.jpeg\" width=\"500\"/>"
      ],
      "text/plain": [
       "<IPython.core.display.Image object>"
      ]
     },
     "execution_count": 3,
     "metadata": {},
     "output_type": "execute_result"
    }
   ],
   "source": [
    "Image(url=\"https://cdn-images-1.medium.com/max/800/1*GRQ91HNASB7MAJPTTlVvfw.jpeg\", width=500)"
   ]
  },
  {
   "cell_type": "raw",
   "metadata": {},
   "source": [
    "[[9.9757642e-01]\n",
    " [4.7235753e-02]\n",
    " [4.0538721e-03]\n",
    " [9.9617660e-01]\n",
    " [2.1781417e-02]\n",
    " [8.6083671e-04]\n",
    " [9.9622810e-01]\n",
    " [9.8972696e-01]\n",
    " [8.6721987e-01]\n",
    " [9.9596101e-01]]\n",
    "\n",
    "\n",
    "\n",
    "\n",
    "array([1., 1., 0., ..., 0., 1., 0.], dtype=float32)\n",
    "\n"
   ]
  },
  {
   "cell_type": "code",
   "execution_count": null,
   "metadata": {},
   "outputs": [],
   "source": []
  },
  {
   "cell_type": "raw",
   "metadata": {},
   "source": [
    "Confusion Matrix :\n",
    "[[185253  14747]\n",
    " [ 14163 185837]]\n",
    " \n",
    " \n",
    " Report : \n",
    "             precision    recall  f1-score   support\n",
    "\n",
    "          0       0.93      0.93      0.93    200000\n",
    "          1       0.93      0.93      0.93    200000\n",
    "\n",
    "avg / total       0.93      0.93      0.93    400000\n",
    "\n",
    "\n",
    "Accuracy Score : 0.927725"
   ]
  },
  {
   "cell_type": "code",
   "execution_count": null,
   "metadata": {},
   "outputs": [],
   "source": []
  }
 ],
 "metadata": {
  "kernelspec": {
   "display_name": "Python 3",
   "language": "python",
   "name": "python3"
  },
  "language_info": {
   "codemirror_mode": {
    "name": "ipython",
    "version": 3
   },
   "file_extension": ".py",
   "mimetype": "text/x-python",
   "name": "python",
   "nbconvert_exporter": "python",
   "pygments_lexer": "ipython3",
   "version": "3.6.8"
  }
 },
 "nbformat": 4,
 "nbformat_minor": 2
}
